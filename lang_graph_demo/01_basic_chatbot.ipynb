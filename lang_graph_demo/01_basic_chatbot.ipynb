{
 "cells": [
  {
   "cell_type": "code",
   "id": "initial_id",
   "metadata": {
    "collapsed": true,
    "ExecuteTime": {
     "end_time": "2025-02-25T04:48:57.493282Z",
     "start_time": "2025-02-25T04:48:56.774563Z"
    }
   },
   "source": [
    "from typing import TypedDict, Annotated\n",
    "\n",
    "from langchain_ollama import ChatOllama\n",
    "from langgraph.constants import START, END\n",
    "from langgraph.graph import StateGraph\n",
    "\n",
    "\n",
    "class State(TypedDict):\n",
    "    messages: Annotated[list, \"messages\"]\n",
    "\n",
    "\n",
    "graph_builder = StateGraph(State)\n",
    "\n",
    "llm = ChatOllama(model=\"exaone3.5:7.8b\")\n",
    "\n",
    "\n",
    "def chatbot(state: State) -> dict:\n",
    "    return {\n",
    "        \"messages\": llm.invoke(state[\"messages\"]),\n",
    "    }\n",
    "\n",
    "\n",
    "graph_builder.add_node(\"chatbot\", chatbot)\n",
    "\n",
    "graph_builder.add_edge(START, \"chatbot\")\n",
    "graph_builder.add_edge(\"chatbot\", END)\n",
    "\n",
    "from IPython.core.display import Image\n",
    "\n",
    "graph = graph_builder.compile()\n",
    "display(Image(graph.get_graph().draw_mermaid_png()))"
   ],
   "outputs": [
    {
     "data": {
      "image/png": "[encoded data removed]",
      "text/plain": [
       "<IPython.core.display.Image object>"
      ]
     },
     "metadata": {},
     "output_type": "display_data"
    }
   ],
   "execution_count": 4
  },
  {
   "metadata": {
    "ExecuteTime": {
     "end_time": "2025-02-25T04:49:24.879544Z",
     "start_time": "2025-02-25T04:49:01.287120Z"
    }
   },
   "cell_type": "code",
   "source": [
    "def stream_graph_updates(user_input: str):\n",
    "    for event in graph.stream({\n",
    "        \"messages\": [\n",
    "            {\"role\": \"system\", \"content\": \"You are a helpful assistant. Always answer in Korean.\"},\n",
    "            {\"role\": \"user\", \"content\": user_input},\n",
    "        ]\n",
    "    }):\n",
    "        for value in event.values():\n",
    "            print(\"Assistant:\", value[\"messages\"].content)\n",
    "\n",
    "\n",
    "while True:\n",
    "    # Tell me a short story nobody know.\n",
    "    user_input = input(\"Human:\")\n",
    "    if user_input == \"exit\":\n",
    "        break\n",
    "\n",
    "    stream_graph_updates(user_input)"
   ],
   "id": "58d33bb9e57de14",
   "outputs": [
    {
     "name": "stdout",
     "output_type": "stream",
     "text": [
      "Assistant: 오래된 마을 한구석에 숨겨진 작은 동굴이 있었어요. 그 동굴 입구에는 오래된 나무 문이 하나 있었는데, 마을 사람들은 그 문이 항상 살짝 열려 있어도 전혀 이상하게 생각하지 않았죠. 어느 흐린 가을 밤, 소녀 지혜는 호기심에 휩싸여 그 동굴을 찾아갔어요. 문을 조심스럽게 밀어 열고 안으로 들어서자, 그곳은 마치 시간이 멈춘 듯 조용했습니다. 동굴 안쪽에는 희미한 불빛 아래로 오래된 책들이 쌓여 있었고, 그 중 하나가 살짝 빛나고 있었어요. 지혜가 그 책을 집어 들자, 갑자기 주변이 밝아지며 신비로운 음악이 들려왔어요. 책을 펼치자 그 순간, 지혜는 책 속의 이야기 속으로 빨려 들어가듯이 다른 세상으로 이동하게 되었어요. 그곳은 그녀가 상상했던 것보다 훨씬 더 아름답고 신비로웠죠. 얼마 후, 지혜는 다시 현실로 돌아왔을 때, 그녀의 눈빛은 더 깊은 지식과 신비로움으로 반짝였어요. 그 후로 지혜는 그 동굴을 자주 찾아갔지만, 아무도 그 이야기를 모르고 있었죠. 마을 사람들은 그저 지혜가 때때로 신비로운 이야기를 들려주는 것만 알았을 뿐이었어요.\n"
     ]
    }
   ],
   "execution_count": 5
  }
 ],
 "metadata": {
  "kernelspec": {
   "display_name": "Python 3",
   "language": "python",
   "name": "python3"
  },
  "language_info": {
   "codemirror_mode": {
    "name": "ipython",
    "version": 2
   },
   "file_extension": ".py",
   "mimetype": "text/x-python",
   "name": "python",
   "nbconvert_exporter": "python",
   "pygments_lexer": "ipython2",
   "version": "2.7.6"
  }
 },
 "nbformat": 4,
 "nbformat_minor": 5
}
