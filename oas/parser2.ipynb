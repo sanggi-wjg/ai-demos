{
 "cells": [
  {
   "cell_type": "code",
   "id": "initial_id",
   "metadata": {
    "collapsed": true,
    "ExecuteTime": {
     "end_time": "2025-02-26T04:54:38.181203Z",
     "start_time": "2025-02-26T04:54:38.135456Z"
    }
   },
   "source": [
    "from prance import ResolvingParser\n",
    "\n",
    "parser = ResolvingParser(\"openapi.yaml\")\n",
    "spec = parser.specification"
   ],
   "execution_count": 20,
   "outputs": []
  },
  {
   "metadata": {
    "ExecuteTime": {
     "end_time": "2025-02-26T04:54:44.438969Z",
     "start_time": "2025-02-26T04:54:44.409386Z"
    }
   },
   "cell_type": "code",
   "source": [
    "from pprint import pprint\n",
    "\n",
    "endpoint = \"/pet\"\n",
    "pprint(spec['paths'][endpoint])"
   ],
   "id": "b6121229682d93c",
   "execution_count": 21,
   "outputs": []
  },
  {
   "metadata": {
    "ExecuteTime": {
     "end_time": "2025-02-26T04:58:05.685626Z",
     "start_time": "2025-02-26T04:57:57.223397Z"
    }
   },
   "cell_type": "code",
   "source": [
    "from dotenv import load_dotenv\n",
    "from langchain_core.prompts import ChatPromptTemplate\n",
    "from langchain_google_genai import ChatGoogleGenerativeAI\n",
    "\n",
    "load_dotenv()\n",
    "\n",
    "prompt = ChatPromptTemplate.from_messages([\n",
    "    {\"role\": \"system\", \"content\": \"You are a helpful AI assistant.\"},\n",
    "    {\"role\": \"user\", \"content\": \"Generate a curl requests with payload randomly based on the following api-spec: {api_spec}\"},\n",
    "])\n",
    "\n",
    "llm = ChatGoogleGenerativeAI(model=\"gemini-2.0-flash\")\n",
    "chain = prompt | llm\n",
    "\n",
    "chat_response = chain.invoke({\"api_spec\": spec['paths'][endpoint]})\n",
    "print(chat_response)"
   ],
   "id": "733230ce81ff59e",
   "execution_count": 22,
   "outputs": []
  }
 ],
 "metadata": {
  "kernelspec": {
   "display_name": "Python 3",
   "language": "python",
   "name": "python3"
  },
  "language_info": {
   "codemirror_mode": {
    "name": "ipython",
    "version": 2
   },
   "file_extension": ".py",
   "mimetype": "text/x-python",
   "name": "python",
   "nbconvert_exporter": "python",
   "pygments_lexer": "ipython2",
   "version": "2.7.6"
  }
 },
 "nbformat": 4,
 "nbformat_minor": 5
}
