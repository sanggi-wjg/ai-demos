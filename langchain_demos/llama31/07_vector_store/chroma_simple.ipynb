{
 "cells": [
  {
   "cell_type": "code",
   "id": "initial_id",
   "metadata": {
    "collapsed": true,
    "ExecuteTime": {
     "end_time": "2024-09-16T03:52:12.163768Z",
     "start_time": "2024-09-16T03:52:11.712681Z"
    }
   },
   "source": [
    "from langchain_community.embeddings import OllamaEmbeddings\n",
    "from langchain_community.vectorstores import Chroma\n",
    "\n",
    "documents = [\n",
    "    \"지난해 룸살롱 등 유흥업소에서 사용된 법인카드 결제 금액 규모가 6000억원을 넘어선 것으로 나타났다.\",\n",
    "    \"16일 국세청이 박성훈 국민의힘 의원실에 제출한 자료에 따르면 지난해 유흥업소 법인카드 사용액은 지난해 5638억원보다 606억원 늘어난 6244억원으로 집계됐다. 전체 법인카드 사용액인 176조5627억원의 0.4% 수준이다.\",\n",
    "    \"유흥업소별로 보면 룸살롱 사용액이 3407억원으로 가장 많았고 단란주점(1313억원), 요정(802억원) 등이 뒤를 이었다.\",\n",
    "    \"극장식 식당(544억원), 나이트클럽(178억원) 등에서도 상당액의 법인카드가 사용됐다.\",\n",
    "    \"유흥업소 법인카드 사용액은 2010년대 초반 1조원을 훌쩍 넘어섰지만 점차 줄면서 2019년 8609억원까지 내려갔다.\",\n",
    "    \"이후 코로나19 팬데믹 영향으로 2021년 2120억원까지 쪼그라들었다가 엔데믹 이후 다시 빠르게 늘어나는 추세다.\",\n",
    "    \"지난해 법인세를 신고한 법인의 업무추진비(접대비)는 15조3246억원이었다.\",\n",
    "    \"업무추진비도 빠르게 증가하는 모습이다. 2020년 11조7469억원이었던 업무추진비는 2021년 11조3740억원, 2022년 12조6995억원을 기록한 데 이어 지난해 3년 만에 약 30% 늘었다\",\n",
    "]\n",
    "\n",
    "embeddings = OllamaEmbeddings(model=\"mxbai-embed-large\")\n",
    "\n",
    "chroma_db = Chroma.from_texts(documents, embedding=embeddings)\n",
    "chroma_db.get()"
   ],
   "outputs": [
    {
     "data": {
      "text/plain": [
       "{'ids': ['1668fa98-23f0-4be4-a554-bcfea9d825a8',\n",
       "  '2128f85e-84a4-40ef-995e-20987c23e064',\n",
       "  '352b6024-e621-4506-81cb-c02f83325e51',\n",
       "  '4b8862d0-9814-40df-9e52-98539cf81540',\n",
       "  '5d9f73b4-c9f9-42a8-8a91-ca547b8468d8',\n",
       "  '7377b236-51ac-4725-8c9f-b22f2c0346a6',\n",
       "  'e1bcf2a9-65ee-4bd9-9cb4-572f45f00ccf',\n",
       "  'eae3b55e-bc4f-4065-b90e-3012516fd63f'],\n",
       " 'embeddings': None,\n",
       " 'metadatas': [None, None, None, None, None, None, None, None],\n",
       " 'documents': ['이후 코로나19 팬데믹 영향으로 2021년 2120억원까지 쪼그라들었다가 엔데믹 이후 다시 빠르게 늘어나는 추세다.',\n",
       "  '극장식 식당(544억원), 나이트클럽(178억원) 등에서도 상당액의 법인카드가 사용됐다.',\n",
       "  '지난해 법인세를 신고한 법인의 업무추진비(접대비)는 15조3246억원이었다.',\n",
       "  '지난해 룸살롱 등 유흥업소에서 사용된 법인카드 결제 금액 규모가 6000억원을 넘어선 것으로 나타났다.',\n",
       "  '유흥업소별로 보면 룸살롱 사용액이 3407억원으로 가장 많았고 단란주점(1313억원), 요정(802억원) 등이 뒤를 이었다.',\n",
       "  '업무추진비도 빠르게 증가하는 모습이다. 2020년 11조7469억원이었던 업무추진비는 2021년 11조3740억원, 2022년 12조6995억원을 기록한 데 이어 지난해 3년 만에 약 30% 늘었다',\n",
       "  '16일 국세청이 박성훈 국민의힘 의원실에 제출한 자료에 따르면 지난해 유흥업소 법인카드 사용액은 지난해 5638억원보다 606억원 늘어난 6244억원으로 집계됐다. 전체 법인카드 사용액인 176조5627억원의 0.4% 수준이다.',\n",
       "  '유흥업소 법인카드 사용액은 2010년대 초반 1조원을 훌쩍 넘어섰지만 점차 줄면서 2019년 8609억원까지 내려갔다.'],\n",
       " 'uris': None,\n",
       " 'data': None,\n",
       " 'included': ['metadatas', 'documents']}"
      ]
     },
     "execution_count": 3,
     "metadata": {},
     "output_type": "execute_result"
    }
   ],
   "execution_count": 3
  },
  {
   "metadata": {
    "ExecuteTime": {
     "end_time": "2024-09-16T03:54:20.840941Z",
     "start_time": "2024-09-16T03:54:20.752409Z"
    }
   },
   "cell_type": "code",
   "source": "chroma_db.similarity_search(\"올해 사용된 업무추진비 금액\", k=3)",
   "id": "1f67c79e5f88308a",
   "outputs": [
    {
     "data": {
      "text/plain": [
       "[Document(metadata={}, page_content='지난해 법인세를 신고한 법인의 업무추진비(접대비)는 15조3246억원이었다.'),\n",
       " Document(metadata={}, page_content='지난해 룸살롱 등 유흥업소에서 사용된 법인카드 결제 금액 규모가 6000억원을 넘어선 것으로 나타났다.'),\n",
       " Document(metadata={}, page_content='극장식 식당(544억원), 나이트클럽(178억원) 등에서도 상당액의 법인카드가 사용됐다.')]"
      ]
     },
     "execution_count": 5,
     "metadata": {},
     "output_type": "execute_result"
    }
   ],
   "execution_count": 5
  }
 ],
 "metadata": {
  "kernelspec": {
   "display_name": "Python 3",
   "language": "python",
   "name": "python3"
  },
  "language_info": {
   "codemirror_mode": {
    "name": "ipython",
    "version": 2
   },
   "file_extension": ".py",
   "mimetype": "text/x-python",
   "name": "python",
   "nbconvert_exporter": "python",
   "pygments_lexer": "ipython2",
   "version": "2.7.6"
  }
 },
 "nbformat": 4,
 "nbformat_minor": 5
}
