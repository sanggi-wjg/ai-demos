{
 "cells": [
  {
   "cell_type": "code",
   "id": "initial_id",
   "metadata": {
    "collapsed": true,
    "ExecuteTime": {
     "end_time": "2024-09-16T03:41:32.770172Z",
     "start_time": "2024-09-16T03:41:32.425176Z"
    }
   },
   "source": [
    "import numpy as np\n",
    "\n",
    "from langchain_community.embeddings import OllamaEmbeddings\n",
    "\n",
    "documents = [\n",
    "    \"지난해 룸살롱 등 유흥업소에서 사용된 법인카드 결제 금액 규모가 6000억원을 넘어선 것으로 나타났다.\",\n",
    "    \"16일 국세청이 박성훈 국민의힘 의원실에 제출한 자료에 따르면 지난해 유흥업소 법인카드 사용액은 지난해 5638억원보다 606억원 늘어난 6244억원으로 집계됐다. 전체 법인카드 사용액인 176조5627억원의 0.4% 수준이다.\",\n",
    "    \"유흥업소별로 보면 룸살롱 사용액이 3407억원으로 가장 많았고 단란주점(1313억원), 요정(802억원) 등이 뒤를 이었다.\",\n",
    "    \"극장식 식당(544억원), 나이트클럽(178억원) 등에서도 상당액의 법인카드가 사용됐다.\",\n",
    "    \"유흥업소 법인카드 사용액은 2010년대 초반 1조원을 훌쩍 넘어섰지만 점차 줄면서 2019년 8609억원까지 내려갔다.\",\n",
    "    \"이후 코로나19 팬데믹 영향으로 2021년 2120억원까지 쪼그라들었다가 엔데믹 이후 다시 빠르게 늘어나는 추세다.\",\n",
    "    \"지난해 법인세를 신고한 법인의 업무추진비(접대비)는 15조3246억원이었다.\",\n",
    "    \"업무추진비도 빠르게 증가하는 모습이다. 2020년 11조7469억원이었던 업무추진비는 2021년 11조3740억원, 2022년 12조6995억원을 기록한 데 이어 지난해 3년 만에 약 30% 늘었다\",\n",
    "]\n",
    "\n",
    "# chroma_db = chromadb.Client()\n",
    "# collection = chroma_db.create_collection(name=\"docs\")\n",
    "#\n",
    "# for i, t in enumerate(texts):\n",
    "#     response = ollama.embeddings(model=\"mxbai-embed-large\", prompt=t)\n",
    "#     collection.add(ids=[str(i)], embeddings=[response[\"embedding\"]], documents=[t])\n",
    "#\n",
    "# print(collection)\n",
    "\n",
    "embeddings = OllamaEmbeddings(model=\"mxbai-embed-large\")\n",
    "embedded_docs = embeddings.embed_documents(documents)\n",
    "embedded_query = embeddings.embed_query(\"업무 추진비 사용 장소\")\n",
    "\n",
    "similarity = np.array(embedded_query) @ np.array(embedded_docs).T\n",
    "sorted_idx = similarity.argsort()[::-1]\n",
    "\n",
    "for i, idx in enumerate(sorted_idx):\n",
    "    print(f\"[{i}] 유사도: {similarity[idx]:.3f} | {documents[i]}\")\n",
    "    print()\n"
   ],
   "execution_count": 4,
   "outputs": []
  },
  {
   "metadata": {
    "ExecuteTime": {
     "end_time": "2024-09-16T03:40:43.700573Z",
     "start_time": "2024-09-16T03:40:43.699024Z"
    }
   },
   "cell_type": "code",
   "source": "",
   "id": "4251cd5f3b37eab2",
   "execution_count": 2,
   "outputs": []
  },
  {
   "metadata": {},
   "cell_type": "code",
   "execution_count": null,
   "source": "",
   "id": "ea6807dc53a27d34",
   "outputs": []
  }
 ],
 "metadata": {
  "kernelspec": {
   "display_name": "Python 3",
   "language": "python",
   "name": "python3"
  },
  "language_info": {
   "codemirror_mode": {
    "name": "ipython",
    "version": 2
   },
   "file_extension": ".py",
   "mimetype": "text/x-python",
   "name": "python",
   "nbconvert_exporter": "python",
   "pygments_lexer": "ipython2",
   "version": "2.7.6"
  }
 },
 "nbformat": 4,
 "nbformat_minor": 5
}
