{
 "cells": [
  {
   "cell_type": "code",
   "id": "initial_id",
   "metadata": {
    "collapsed": true,
    "ExecuteTime": {
     "end_time": "2024-09-16T07:26:02.796568Z",
     "start_time": "2024-09-16T07:25:58.386903Z"
    }
   },
   "source": [
    "import os.path\n",
    "\n",
    "from langchain.embeddings import CacheBackedEmbeddings\n",
    "from langchain.storage import LocalFileStore\n",
    "from langchain_community.vectorstores import Chroma\n",
    "from langchain_ollama import OllamaEmbeddings\n",
    "from langchain_text_splitters import Language\n",
    "from langchain_community.document_loaders.parsers import LanguageParser\n",
    "from langchain_community.document_loaders.generic import GenericLoader\n",
    "\n",
    "repository_root = \"/Users/raynor/workspace/xxx/\"\n",
    "\n",
    "fitpetmall_backend_documents = []\n",
    "\n",
    "for path in [\"skeds\", ]:\n",
    "    loader = GenericLoader.from_filesystem(\n",
    "        os.path.join(repository_root, path),\n",
    "        glob=\"**/*\",\n",
    "        suffixes=[\".py\"],\n",
    "        parser=LanguageParser(language=Language.PYTHON.value, parser_threshold=30),\n",
    "    )\n",
    "    fitpetmall_backend_documents.extend(loader.load())\n",
    "\n",
    "embeddings = OllamaEmbeddings(model=\"mxbai-embed-large\")\n",
    "cached_embeddings = CacheBackedEmbeddings.from_bytes_store(\n",
    "    embeddings,\n",
    "    LocalFileStore(\"./.store/\"),\n",
    "    namespace=embeddings.model,\n",
    ")\n",
    "\n",
    "db = Chroma.from_documents(\n",
    "    fitpetmall_backend_documents,\n",
    "    cached_embeddings,\n",
    "    persist_directory=\"./.vector/\",\n",
    ")\n"
   ],
   "execution_count": 6,
   "outputs": []
  },
  {
   "metadata": {
    "ExecuteTime": {
     "end_time": "2024-09-16T07:29:30.989303Z",
     "start_time": "2024-09-16T07:29:30.875642Z"
    }
   },
   "cell_type": "code",
   "source": [
    "from langchain_core.runnables import RunnablePassthrough\n",
    "from langchain.retrievers import EnsembleRetriever\n",
    "from langchain_community.retrievers import BM25Retriever\n",
    "from langchain_core.output_parsers import StrOutputParser\n",
    "from langchain_ollama import ChatOllama\n",
    "from langchain_core.prompts import PromptTemplate\n",
    "\n",
    "retriever = db.as_retriever(search_type=\"mmr\", search_kwargs={\"k\": 10})\n",
    "bm25_retriever = BM25Retriever.from_documents(fitpetmall_backend_documents)\n",
    "bm25_retriever.k = 10\n",
    "\n",
    "ensemble_retriever = EnsembleRetriever(\n",
    "    retrievers=[retriever, bm25_retriever],\n",
    "    weights=[0.4, 0.6],\n",
    "    search_type=\"mmr\",\n",
    ")"
   ],
   "id": "2272cdc5e8b1fbe9",
   "execution_count": 12,
   "outputs": []
  },
  {
   "metadata": {
    "ExecuteTime": {
     "end_time": "2024-09-16T07:32:38.404741Z",
     "start_time": "2024-09-16T07:32:38.199952Z"
    }
   },
   "cell_type": "code",
   "source": [
    "prompt = PromptTemplate.from_template(\"\"\"\n",
    "당신은 핏펫몰 백엔드 개발자 입니다. 당신의 임무는 주어진 질문에 대해여 최대한 주어진 코드를 활용하여 답변하는 것입니다.\n",
    "최대한 자세하게 답변하고, 주어진 코드로 답을 찾을수 없는 경우 `정보 부족으로 답변이 불가능합니다`로 답변 해주세요. \n",
    "답변은 출처(source) 코드를 반드시 표기해주세요.\n",
    "\n",
    "# 참고코드:\n",
    "{context}\n",
    "\n",
    "# 질문:\n",
    "{question}\n",
    "\n",
    "출처:\n",
    "- source1\n",
    "- source2\n",
    "- ...\n",
    "\"\"\")\n",
    "\n",
    "llm = ChatOllama(model=\"llama3.1\", temparature=0)\n",
    "chain = {\"context\": ensemble_retriever, \"question\": RunnablePassthrough()} | prompt | llm | StrOutputParser()\n",
    "\n",
    "for token in chain.stream({\"context\": \"\", \"question\": \"주문 취소 로직에 대해서 알려줘\"}):\n",
    "    print(token, end=\"\", flush=True)"
   ],
   "id": "ba72811526071e8a",
   "execution_count": 17,
   "outputs": []
  },
  {
   "metadata": {},
   "cell_type": "code",
   "execution_count": null,
   "source": "",
   "id": "aa1a6e2a27d7a55c",
   "outputs": []
  }
 ],
 "metadata": {
  "kernelspec": {
   "display_name": "Python 3",
   "language": "python",
   "name": "python3"
  },
  "language_info": {
   "codemirror_mode": {
    "name": "ipython",
    "version": 2
   },
   "file_extension": ".py",
   "mimetype": "text/x-python",
   "name": "python",
   "nbconvert_exporter": "python",
   "pygments_lexer": "ipython2",
   "version": "2.7.6"
  }
 },
 "nbformat": 4,
 "nbformat_minor": 5
}
